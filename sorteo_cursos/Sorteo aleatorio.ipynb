{
 "cells": [
  {
   "cell_type": "code",
   "execution_count": 8,
   "metadata": {
    "ExecuteTime": {
     "end_time": "2020-08-01T09:26:56.263368Z",
     "start_time": "2020-08-01T09:26:56.254767Z"
    }
   },
   "outputs": [
    {
     "data": {
      "text/plain": [
       "358153729                                    Saulavi10 -- Saúl\n",
       "122613367                                    Green584 -- Green\n",
       "881259234             Jose_Angel_Gallego -- José Angel Gallego\n",
       "713893297                                           SN -- Jose\n",
       "14452707                                          robcs -- Rob\n",
       "756972308                                       Acecm -- Jesús\n",
       "127495549                                  Bukosabino -- Darío\n",
       "509044117                                           SN -- DàŃï\n",
       "345474554                                    kayinAx -- Alexis\n",
       "158472869                                 cthemudo -- cthemudo\n",
       "947517889                                   AnubisEC -- Daniel\n",
       "1017278321                                       SN -- Ignacio\n",
       "279435734                                      scgrm -- Sergio\n",
       "176554974                                         SN -- Javier\n",
       "385058364                                           SN -- Tony\n",
       "731316909                                         SN -- Marcos\n",
       "12139654                                    SN -- Angel Manuel\n",
       "344216061                                   yokinfx -- Joaquin\n",
       "347691591                                        SN -- Benjamí\n",
       "347429783                                     juanmi23 -- Juan\n",
       "1152839534                                          SN -- John\n",
       "994467022                                 the_emmo -- the_emmo\n",
       "9010383                                     Tradefish1 -- Raul\n",
       "483669082                                    rilocer -- Damian\n",
       "16644449                                           Eliats -- J\n",
       "600889583     TradingEntreTiburones -- Trading Entre Tiburones\n",
       "761138150                                  Profefacu -- Gaston\n",
       "dtype: object"
      ]
     },
     "execution_count": 8,
     "metadata": {},
     "output_type": "execute_result"
    }
   ],
   "source": [
    "import pandas as pd\n",
    "\n",
    "acertantes = pd.read_pickle('acertantes_reto.pkl')\n",
    "acertantes"
   ]
  },
  {
   "cell_type": "code",
   "execution_count": 10,
   "metadata": {
    "ExecuteTime": {
     "end_time": "2020-08-01T09:40:46.117804Z",
     "start_time": "2020-08-01T09:40:46.106740Z"
    }
   },
   "outputs": [
    {
     "name": "stdout",
     "output_type": "stream",
     "text": [
      "483669082       rilocer -- Damian\n",
      "713893297              SN -- Jose\n",
      "176554974            SN -- Javier\n",
      "509044117              SN -- DàŃï\n",
      "12139654       SN -- Angel Manuel\n",
      "158472869    cthemudo -- cthemudo\n",
      "347691591           SN -- Benjamí\n",
      "14452707             robcs -- Rob\n",
      "127495549     Bukosabino -- Darío\n",
      "279435734         scgrm -- Sergio\n",
      "dtype: object\n"
     ]
    }
   ],
   "source": [
    "numero_suerte = 57\n",
    "afortunados = acertantes.sample(10, random_state=numero_suerte)\n",
    "print(afortunados)"
   ]
  },
  {
   "cell_type": "code",
   "execution_count": null,
   "metadata": {},
   "outputs": [],
   "source": []
  }
 ],
 "metadata": {
  "kernelspec": {
   "display_name": "Python 3",
   "language": "python",
   "name": "python3"
  },
  "language_info": {
   "codemirror_mode": {
    "name": "ipython",
    "version": 3
   },
   "file_extension": ".py",
   "mimetype": "text/x-python",
   "name": "python",
   "nbconvert_exporter": "python",
   "pygments_lexer": "ipython3",
   "version": "3.7.7"
  },
  "latex_envs": {
   "LaTeX_envs_menu_present": true,
   "autoclose": false,
   "autocomplete": true,
   "bibliofile": "biblio.bib",
   "cite_by": "apalike",
   "current_citInitial": 1,
   "eqLabelWithNumbers": true,
   "eqNumInitial": 1,
   "hotkeys": {
    "equation": "Ctrl-E",
    "itemize": "Ctrl-I"
   },
   "labels_anchors": false,
   "latex_user_defs": false,
   "report_style_numbering": false,
   "user_envs_cfg": false
  },
  "varInspector": {
   "cols": {
    "lenName": 16,
    "lenType": 16,
    "lenVar": 40
   },
   "kernels_config": {
    "python": {
     "delete_cmd_postfix": "",
     "delete_cmd_prefix": "del ",
     "library": "var_list.py",
     "varRefreshCmd": "print(var_dic_list())"
    },
    "r": {
     "delete_cmd_postfix": ") ",
     "delete_cmd_prefix": "rm(",
     "library": "var_list.r",
     "varRefreshCmd": "cat(var_dic_list()) "
    }
   },
   "types_to_exclude": [
    "module",
    "function",
    "builtin_function_or_method",
    "instance",
    "_Feature"
   ],
   "window_display": false
  }
 },
 "nbformat": 4,
 "nbformat_minor": 4
}
